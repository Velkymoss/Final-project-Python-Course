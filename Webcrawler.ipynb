{
 "cells": [
  {
   "cell_type": "code",
   "execution_count": 3,
   "id": "0ac67e5b",
   "metadata": {},
   "outputs": [],
   "source": [
    "from bs4 import BeautifulSoup\n",
    "import requests\n",
    "import pandas as pd\n",
    "import pickle\n",
    "import sys\n",
    "import time\n",
    "import numpy as np"
   ]
  },
  {
   "cell_type": "code",
   "execution_count": null,
   "id": "635fe0f9-21ae-4065-95db-bd519416bdf8",
   "metadata": {},
   "outputs": [],
   "source": [
    "sys.setrecursionlimit(1000000)"
   ]
  },
  {
   "cell_type": "code",
   "execution_count": 2,
   "id": "7b302967",
   "metadata": {},
   "outputs": [],
   "source": [
    "# function to extract all article links from the mewspaper zackzack\n",
    "def spider(year, month):\n",
    "    article_list = []\n",
    "    \n",
    "    page = 1\n",
    "    source_x = requests.get(f'https://zackzack.at/{year}/{month}/page/{page}/')\n",
    "    \n",
    "    \n",
    "    while source_x.status_code == 200:\n",
    "        # year and month as break points\n",
    "        if year == 2021 and month == 6:\n",
    "            break\n",
    "        source = requests.get(f'https://zackzack.at/{year}/{month}/page/{page}/').text\n",
    "        source_x = requests.get(f'https://zackzack.at/{year}/{month}/page/{page}/')\n",
    "        soup = BeautifulSoup(source, 'lxml')\n",
    "\n",
    "        for link in soup.find_all('h3', class_='slide-entry-title entry-title'):\n",
    "            article_link = link.a.get('href')\n",
    "            article_list.append(article_link)\n",
    "        page += 1    \n",
    "        \n",
    "        \n",
    "        if source_x.status_code != 200:\n",
    "            page = 1\n",
    "            month += 1\n",
    "            source = requests.get(f'https://zackzack.at/{year}/{month}/page/{page}/').text\n",
    "            soup = BeautifulSoup(source, 'lxml')\n",
    "\n",
    "            for link in soup.find_all('h3', class_='slide-entry-title entry-title'):\n",
    "                article_link = link.a.get('href')\n",
    "                \n",
    "                article_list.append(article_link)\n",
    "            page += 1\n",
    "            source_x = requests.get(f'https://zackzack.at/{year}/{month}/page/{page}/')\n",
    "           \n",
    "        \n",
    "        elif month > 12:\n",
    "            page = 1\n",
    "            month = 1\n",
    "            year += 1\n",
    "            source = requests.get(f'https://zackzack.at/{year}/{month}/page/{page}/').text\n",
    "            soup = BeautifulSoup(source, 'lxml')\n",
    "\n",
    "            for link in soup.find_all('h3', class_='slide-entry-title entry-title'):\n",
    "                article_link = link.a.get('href')\n",
    "                article_list.append(article_link)\n",
    "            \n",
    "            page += 1\n",
    "            source_x = requests.get(f'https://zackzack.at/{year}/{month}/page/{page}/')\n",
    "         #create a pickle file of links\n",
    "    #!mkdir pickle_files\n",
    "    pickle_out = open('article_linklist', 'wb')\n",
    "    pickle.dump(article_list, pickle_out)\n",
    "    pickle_out.close()\n",
    "    \n",
    "    #print(article_linklist)\n",
    "    return 'Finished'"
   ]
  },
  {
   "cell_type": "code",
   "execution_count": 3,
   "id": "144093fe",
   "metadata": {},
   "outputs": [
    {
     "data": {
      "text/plain": [
       "'Finished'"
      ]
     },
     "execution_count": 3,
     "metadata": {},
     "output_type": "execute_result"
    }
   ],
   "source": [
    "spider(2021, 5)"
   ]
  },
  {
   "cell_type": "code",
   "execution_count": 10,
   "id": "2a828b25",
   "metadata": {},
   "outputs": [],
   "source": [
    "pickle_in = open('files/article_linklist', 'rb')\n",
    "article_linklist = pickle.load(pickle_in)"
   ]
  },
  {
   "cell_type": "code",
   "execution_count": 13,
   "id": "50c0004f-8f1c-483a-bf78-d3461c3311ae",
   "metadata": {},
   "outputs": [
    {
     "data": {
      "text/plain": [
       "5582"
      ]
     },
     "execution_count": 13,
     "metadata": {},
     "output_type": "execute_result"
    }
   ],
   "source": [
    "len(article_linklist)"
   ]
  },
  {
   "cell_type": "code",
   "execution_count": null,
   "id": "f3978c66",
   "metadata": {},
   "outputs": [],
   "source": [
    "# storing all the soup data of the article links in a variable\n",
    "data = []\n",
    "idx = 0\n",
    "pause = 10\n",
    "while idx < len(article_linklist):\n",
    "    try:\n",
    "        source = requests.get(article_linklist[idx]).text\n",
    "        soup = BeautifulSoup(source, 'lxml')\n",
    "        data.append(soup)\n",
    "        idx += 1\n",
    "    except:\n",
    "        time.sleep(pause)\n",
    "        pause += 10"
   ]
  },
  {
   "cell_type": "code",
   "execution_count": null,
   "id": "9dad0039-4184-49dd-bc87-5c3862f09fb2",
   "metadata": {},
   "outputs": [],
   "source": [
    "# saving the soup data to a txt-file\n",
    "souplist_prettified = [k.prettify() for k in data]\n",
    "souplist_withword = [m + 'BREAKHERE' for m in souplist_prettified]\n",
    "souplist_as_one = ''.join(souplist_withword)\n",
    "with open('souplist.txt', 'w', encoding='utf-8') as file:\n",
    "    file.write(souplist_as_one)"
   ]
  }
 ],
 "metadata": {
  "kernelspec": {
   "display_name": "Python 3",
   "language": "python",
   "name": "python3"
  },
  "language_info": {
   "codemirror_mode": {
    "name": "ipython",
    "version": 3
   },
   "file_extension": ".py",
   "mimetype": "text/x-python",
   "name": "python",
   "nbconvert_exporter": "python",
   "pygments_lexer": "ipython3",
   "version": "3.8.5"
  }
 },
 "nbformat": 4,
 "nbformat_minor": 5
}
